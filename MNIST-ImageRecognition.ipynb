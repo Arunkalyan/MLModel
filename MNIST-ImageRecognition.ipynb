{
 "cells": [
  {
   "cell_type": "code",
   "execution_count": 124,
   "metadata": {
    "collapsed": true
   },
   "outputs": [],
   "source": [
    "import struct\n",
    "import numpy as np\n",
    "import matplotlib.pyplot as plt\n",
    "import pandas as pd\n",
    "from sklearn.linear_model import LogisticRegression\n",
    "from sklearn.ensemble import RandomForestClassifier, BaggingClassifier\n",
    "import sys\n",
    "from math import sqrt\n",
    "from sklearn.svm import SVC\n",
    "from sklearn.multiclass import OneVsRestClassifier"
   ]
  },
  {
   "cell_type": "code",
   "execution_count": 125,
   "metadata": {
    "collapsed": false
   },
   "outputs": [],
   "source": [
    "def read_image(file_name, idx_image):\n",
    "\n",
    "\timg_file = open(file_name,'r+b')\n",
    "\tprint(img_file)\n",
    "\t##########################################\n",
    "\t# Get basic information about the images #\n",
    "\t# (This is described in the webpage of \t #\n",
    "\t# the database)\t\t\t\t\t\t\t #\n",
    "\t##########################################\n",
    "\timg_file.seek(0)\n",
    "\tmagic_number = img_file.read(4)\n",
    "\tmagic_number = struct.unpack('>i',magic_number)\n",
    "\tprint('Magic Numbers: '+str(magic_number[0]))\n",
    "\t\t\n",
    "\tdata_type = img_file.read(4)\n",
    "\tdata_type = struct.unpack('>i',data_type)\n",
    "\tprint('Number of Images: '+str(data_type[0]))\n",
    "\n",
    "\n",
    "\tdim = img_file.read(8)\n",
    "\tdimr = struct.unpack('>i',dim[0:4])\n",
    "\tdimr = dimr[0]\n",
    "\tprint('Number of Rows: '+str(dimr))\n",
    "\tdimc = struct.unpack('>i',dim[4:])\n",
    "\tdimc = dimc[0]\n",
    "\tprint('Number of Columns:'+str(dimc))\n",
    "\n",
    "\n",
    "\timage = np.ndarray(shape=(dimr,dimc))\n",
    "\timg_file.seek(16+dimc*dimr*idx_image)\n",
    "\t\n",
    "\tfor row in range(dimr):\n",
    "\t\tfor col in range(dimc):\n",
    "\t\t\ttmp_d = img_file.read(1)\n",
    "\t\t\ttmp_d = struct.unpack('>B',tmp_d)\n",
    "\t\t\timage[row,col] = tmp_d[0]\n",
    "\t\n",
    "\timg_file.close()\n",
    "\treturn image\n",
    "\n",
    "def read_all_image(file_name, idx_image):\n",
    "\n",
    "\timg_file = open(file_name,'r+b')\n",
    "\tprint(img_file)\n",
    "\t##########################################\n",
    "\t# Get basic information about the images #\n",
    "\t# (This is described in the webpage of \t #\n",
    "\t# the database)\t\t\t\t\t\t\t #\n",
    "\t##########################################\n",
    "\timg_file.seek(0)\n",
    "\tmagic_number = img_file.read(4)\n",
    "\tmagic_number = struct.unpack('>i',magic_number)\n",
    "\tprint('Magic Numbers: '+str(magic_number[0]))\n",
    "\t\t\n",
    "\tdata_type = img_file.read(4)\n",
    "\tdata_type = struct.unpack('>i',data_type)\n",
    "\tprint('Number of Images: '+str(data_type[0]))\n",
    "\n",
    "\n",
    "\tdim = img_file.read(8)\n",
    "\tdimr = struct.unpack('>i',dim[0:4])\n",
    "\tdimr = dimr[0]\n",
    "\tprint('Number of Rows: '+str(dimr))\n",
    "\tdimc = struct.unpack('>i',dim[4:])\n",
    "\tdimc = dimc[0]\n",
    "\tprint('Number of Columns:'+str(dimc))\n",
    "\n",
    "\n",
    "\timage = np.ndarray(shape=(data_type[0],dimr*dimc))\n",
    "\timg_file.seek(16+dimc*dimr*0)\n",
    "\t\n",
    "\tfor row in range(data_type[0]-1):\n",
    "\t\tfor col in range(dimc*dimr):\n",
    "\t\t\ttmp_d = img_file.read(1)\n",
    "\t\t\ttmp_d = struct.unpack('>B',tmp_d)\n",
    "\t\t\timage[row,col] = tmp_d[0]\n",
    "\t\n",
    "\timg_file.close()\n",
    "\treturn image\n",
    "\n",
    "\t#image = read_image('data/train-images-idx3-ubyte',59999)\n",
    "\t#img_plot = plt.imshow(image,'Greys')\n",
    "\t#plt.show()\n",
    "\t#f = gzip.open('/Users/arunnaga/Downloads/Python Projects/Image Database/mnist.pkl.gz', 'rb')\n",
    "\t#u = pickle._Unpickler(f)    \n",
    "\t#train_set, valid_set, test_set = pickle.load(f,encoding = 'latin1')\n",
    "\t#f.close()\n",
    "\n",
    "\n",
    "def read_labels(file_name):\n",
    "\timg_file = open(file_name,'r+b')\n",
    "\tprint(img_file)\n",
    "\timg_file.seek(0)\n",
    "\tmagic_number = img_file.read(4)\n",
    "\tmagic_number = struct.unpack('>i',magic_number)\n",
    "\tprint('Magic Numbers: '+str(magic_number[0]))\n",
    "\t\n",
    "\tdata_type = img_file.read(4)\n",
    "\tdata_type = struct.unpack('>i',data_type)\n",
    "\tprint('Number of Lables: '+str(data_type[0]))\n",
    "    \n",
    "\tlabels = np.ndarray(shape=(data_type[0],1))\n",
    "\timg_file.seek(8)\n",
    "    \n",
    "\tfor row in range(data_type[0]-1):\n",
    "\t\ttmp_d = img_file.read(1)\n",
    "\t\ttmp_d = struct.unpack('>B',tmp_d)\n",
    "\t\tlabels[row,0] = tmp_d[0]\n",
    "    \n",
    "\timg_file.close()\n",
    "\treturn labels"
   ]
  },
  {
   "cell_type": "code",
   "execution_count": 126,
   "metadata": {
    "collapsed": false
   },
   "outputs": [],
   "source": [
    "def misclassfiedEntries(pred_algo,predict_df):\n",
    "    predicted_value = pred_algo.predict(predict_df.ix[:, predict_df.columns != 'label'])\n",
    "    se = pd.Series(predicted_value)\n",
    "    predict_df['predicted'] = se.values\n",
    "    return predict_df[predict_df['label']!=predict_df['predicted']]\n",
    "    #return predict_df"
   ]
  },
  {
   "cell_type": "code",
   "execution_count": 127,
   "metadata": {
    "collapsed": false,
    "scrolled": true
   },
   "outputs": [
    {
     "name": "stdout",
     "output_type": "stream",
     "text": [
      "<_io.BufferedRandom name='/home/arunnaga/workplace/PythonProjects/ImageRecognition/train-images-idx3-ubyte'>\n",
      "Magic Numbers: 2051\n",
      "Number of Images: 60000\n",
      "Number of Rows: 28\n",
      "Number of Columns:28\n",
      "<_io.BufferedRandom name='/home/arunnaga/workplace/PythonProjects/ImageRecognition/train-labels-idx1-ubyte'>\n",
      "Magic Numbers: 2049\n",
      "Number of Lables: 60000\n",
      "<_io.BufferedRandom name='/home/arunnaga/workplace/PythonProjects/ImageRecognition/t10k-images-idx3-ubyte'>\n",
      "Magic Numbers: 2051\n",
      "Number of Images: 10000\n",
      "Number of Rows: 28\n",
      "Number of Columns:28\n",
      "<_io.BufferedRandom name='/home/arunnaga/workplace/PythonProjects/ImageRecognition/t10k-labels-idx1-ubyte'>\n",
      "Magic Numbers: 2049\n",
      "Number of Lables: 10000\n"
     ]
    }
   ],
   "source": [
    "hm_dir='/home/arunnaga/workplace/PythonProjects/ImageRecognition/'\n",
    "train_images=read_all_image(hm_dir+'train-images-idx3-ubyte',2)\n",
    "train_labels=read_labels(hm_dir+'train-labels-idx1-ubyte')\n",
    "test_images=read_all_image(hm_dir+'t10k-images-idx3-ubyte',2)\n",
    "test_labels=read_labels(hm_dir+'t10k-labels-idx1-ubyte')"
   ]
  },
  {
   "cell_type": "code",
   "execution_count": 128,
   "metadata": {
    "collapsed": true
   },
   "outputs": [],
   "source": [
    "# Add Columns to the Dataframe\n",
    "columns = ['f'+str(i) for i in range(1, 784+1)]\n",
    "index = ['in'+str(i) for i in range(1, 784+1)]"
   ]
  },
  {
   "cell_type": "code",
   "execution_count": 129,
   "metadata": {
    "collapsed": true
   },
   "outputs": [],
   "source": [
    "# TRaining Data - 60,000 images\n",
    "\n",
    "df_train=pd.DataFrame(data=train_images[0:,0:],    # values\n",
    "\tindex=train_images[0:,0],   # 1st column as index\n",
    "\tcolumns=columns)  # 1st row as the column names\n",
    "# ------ Y in the last row is incorrect \n",
    "df_train['label'] = train_labels\n",
    "        \n",
    "\n",
    "# Test data - 10,000 images\n",
    "        \n",
    "df_test=pd.DataFrame(data=test_images[0:,0:],    # values\n",
    "\tindex=test_images[0:,0],   # 1st column as index\n",
    "\tcolumns=columns)  # 1st row as the column names\n",
    "\n",
    "df_test['label'] = test_labels"
   ]
  },
  {
   "cell_type": "markdown",
   "metadata": {},
   "source": [
    "inputfile = hm_dir+'train-images-idx3-ubyte'\n",
    "idx=3\n",
    "image = read_image(inputfile,idx)\n",
    "img_plot = plt.imshow(image,'Greys')\n",
    "plt.show()"
   ]
  },
  {
   "cell_type": "code",
   "execution_count": 130,
   "metadata": {
    "collapsed": false
   },
   "outputs": [
    {
     "data": {
      "text/plain": [
       "0.9617"
      ]
     },
     "execution_count": 130,
     "metadata": {},
     "output_type": "execute_result"
    }
   ],
   "source": [
    "# Random Forest implmenetation\n",
    "num_features_for_split = int(sqrt(784))\n",
    "rf = RandomForestClassifier(n_estimators=num_features_for_split, n_jobs=-1)\n",
    "rf.fit(df_train.ix[:, df_train.columns != 'label'],df_train['label'])\n",
    "#rf.predict(df_test.head(10).ix[:, df_test.head(10).columns != 'label'])\n",
    "rf.score(df_test.ix[:, df_test.columns != 'label'],df_test['label'])"
   ]
  },
  {
   "cell_type": "code",
   "execution_count": 24,
   "metadata": {
    "collapsed": false
   },
   "outputs": [
    {
     "data": {
      "text/plain": [
       "0.126"
      ]
     },
     "execution_count": 24,
     "metadata": {},
     "output_type": "execute_result"
    }
   ],
   "source": [
    "# Support Vector Machine\n",
    "clf = svm.SVC()\n",
    "clf.fit(df_train.head(5000).ix[:, df_train.head(5000).columns != 'label'],df_train['label'].head(5000)) \n",
    "clf.score(df_test.head(1000).ix[:, df_test.head(1000).columns != 'label'],df_test['label'].head(1000))"
   ]
  },
  {
   "cell_type": "code",
   "execution_count": 8,
   "metadata": {
    "collapsed": false
   },
   "outputs": [
    {
     "data": {
      "text/plain": [
       "0.91830000000000001"
      ]
     },
     "execution_count": 8,
     "metadata": {},
     "output_type": "execute_result"
    }
   ],
   "source": [
    "# Logistic Regression\n",
    "lr = LogisticRegression(n_jobs=-1,max_iter=30,tol=0.001)\n",
    "lr = lr.fit(df_train.ix[:, df_train.columns != 'label'],df_train['label'])\n",
    "lr.score(df_test.ix[:, df_test.columns != 'label'],df_test['label'])"
   ]
  },
  {
   "cell_type": "code",
   "execution_count": null,
   "metadata": {
    "collapsed": false
   },
   "outputs": [],
   "source": [
    "# SVC with Bagging for faster processing\n",
    "n_estimators = 10\n",
    "clf = OneVsRestClassifier(BaggingClassifier(SVC(kernel='linear', probability=True, class_weight='balanced'), max_samples=1.0 / n_estimators, n_estimators=n_estimators))\n",
    "clf.fit(df_train.ix[:, df_train.columns != 'label'],df_train['label'])\n",
    "clf.score(df_test.ix[:, df_test.columns != 'label'],df_test['label'])"
   ]
  },
  {
   "cell_type": "code",
   "execution_count": 131,
   "metadata": {
    "collapsed": false
   },
   "outputs": [],
   "source": [
    "misclassed = misclassfiedEntries(rf,df_test)"
   ]
  },
  {
   "cell_type": "code",
   "execution_count": 132,
   "metadata": {
    "collapsed": false
   },
   "outputs": [
    {
     "name": "stdout",
     "output_type": "stream",
     "text": [
      "      f1   f2   f3   f4   f5   f6   f7   f8   f9  f10    ...      f777  f778  \\\n",
      "0.0  0.0  0.0  0.0  0.0  0.0  0.0  0.0  0.0  0.0  0.0    ...       0.0   0.0   \n",
      "0.0  0.0  0.0  0.0  0.0  0.0  0.0  0.0  0.0  0.0  0.0    ...       0.0   0.0   \n",
      "0.0  0.0  0.0  0.0  0.0  0.0  0.0  0.0  0.0  0.0  0.0    ...       0.0   0.0   \n",
      "0.0  0.0  0.0  0.0  0.0  0.0  0.0  0.0  0.0  0.0  0.0    ...       0.0   0.0   \n",
      "0.0  0.0  0.0  0.0  0.0  0.0  0.0  0.0  0.0  0.0  0.0    ...       0.0   0.0   \n",
      "\n",
      "     f779  f780  f781  f782  f783  f784  label  predicted  \n",
      "0.0   0.0   0.0   0.0   0.0   0.0   0.0    8.0        2.0  \n",
      "0.0   0.0   0.0   0.0   0.0   0.0   0.0    9.0        7.0  \n",
      "0.0   0.0   0.0   0.0   0.0   0.0   0.0    2.0        7.0  \n",
      "0.0   0.0   0.0   0.0   0.0   0.0   0.0    7.0        4.0  \n",
      "0.0   0.0   0.0   0.0   0.0   0.0   0.0    3.0        2.0  \n",
      "\n",
      "[5 rows x 786 columns]\n"
     ]
    }
   ],
   "source": [
    "print (misclassed.head())"
   ]
  },
  {
   "cell_type": "code",
   "execution_count": null,
   "metadata": {
    "collapsed": false
   },
   "outputs": [],
   "source": [
    "misclassed.groupby(['label','predicted'])['f1'].count()\n"
   ]
  },
  {
   "cell_type": "code",
   "execution_count": null,
   "metadata": {
    "collapsed": true
   },
   "outputs": [],
   "source": []
  },
  {
   "cell_type": "code",
   "execution_count": null,
   "metadata": {
    "collapsed": true
   },
   "outputs": [],
   "source": []
  }
 ],
 "metadata": {
  "kernelspec": {
   "display_name": "Python 3",
   "language": "python",
   "name": "python3"
  },
  "language_info": {
   "codemirror_mode": {
    "name": "ipython",
    "version": 3
   },
   "file_extension": ".py",
   "mimetype": "text/x-python",
   "name": "python",
   "nbconvert_exporter": "python",
   "pygments_lexer": "ipython3",
   "version": "3.6.0"
  }
 },
 "nbformat": 4,
 "nbformat_minor": 2
}
